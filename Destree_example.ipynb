{
  "nbformat": 4,
  "nbformat_minor": 0,
  "metadata": {
    "colab": {
      "provenance": [],
      "authorship_tag": "ABX9TyPIb63o5b8c391qeqY1skLy",
      "include_colab_link": true
    },
    "kernelspec": {
      "name": "python3",
      "display_name": "Python 3"
    },
    "language_info": {
      "name": "python"
    }
  },
  "cells": [
    {
      "cell_type": "markdown",
      "metadata": {
        "id": "view-in-github",
        "colab_type": "text"
      },
      "source": [
        "<a href=\"https://colab.research.google.com/github/Subir00/Destree/blob/main/Destree_example.ipynb\" target=\"_parent\"><img src=\"https://colab.research.google.com/assets/colab-badge.svg\" alt=\"Open In Colab\"/></a>"
      ]
    },
    {
      "cell_type": "code",
      "execution_count": null,
      "metadata": {
        "colab": {
          "base_uri": "https://localhost:8080/"
        },
        "id": "O6z48OKwy33d",
        "outputId": "e79ebf96-5b5c-409d-b4e0-5032511fce01"
      },
      "outputs": [
        {
          "output_type": "stream",
          "name": "stdout",
          "text": [
            "Looking in indexes: https://pypi.org/simple, https://us-python.pkg.dev/colab-wheels/public/simple/\n",
            "Collecting Destree\n",
            "  Downloading destree-0.0.5-py3-none-any.whl (3.7 kB)\n",
            "Installing collected packages: Destree\n",
            "Successfully installed Destree-0.0.5\n"
          ]
        }
      ],
      "source": [
        "pip install Destree"
      ]
    },
    {
      "cell_type": "code",
      "source": [
        "if __name__ == \"__main__\":\n",
        "  import numpy as np\n",
        "  from sklearn import datasets\n",
        "  from sklearn.model_selection import train_test_split\n",
        "  from Destree.dtree import DecisionTree\n",
        "  def accuracy(y_true, y_pred):\n",
        "        accuracy = np.sum(y_true == y_pred) / len(y_true)\n",
        "        return accuracy\n",
        "  data = datasets.load_breast_cancer()\n",
        "  X, y = data.data, data.target\n",
        "\n",
        "  X_train, X_test, y_train, y_test = train_test_split(\n",
        "        X, y, test_size=0.2, random_state=1)\n",
        "\n",
        "  clf = DecisionTree(max_depth=10)\n",
        "  clf.fit(X_train, y_train)\n",
        "\n",
        "  y_pred = clf.predict(X_test)\n",
        "  acc = accuracy(y_test, y_pred)\n",
        "  print(\"Accuracy:\", acc)"
      ],
      "metadata": {
        "colab": {
          "base_uri": "https://localhost:8080/"
        },
        "id": "eAKelycSzEro",
        "outputId": "ccb3fc75-c2e3-4c9f-db67-3b5f066bc21a"
      },
      "execution_count": null,
      "outputs": [
        {
          "output_type": "stream",
          "name": "stdout",
          "text": [
            "Accuracy: 0.9473684210526315\n"
          ]
        }
      ]
    }
  ]
}